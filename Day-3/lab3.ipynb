{
 "cells": [
  {
   "cell_type": "markdown",
   "source": [
    "# Live Video Capture"
   ],
   "metadata": {}
  },
  {
   "cell_type": "code",
   "execution_count": 1,
   "source": [
    "import numpy as np\r\n",
    "import cv2\r\n",
    "cap = cv2.VideoCapture(0)\r\n",
    "while(True):\r\n",
    "    __, frame = cap.read()\r\n",
    "    gray = cv2.cvtColor(frame, cv2.COLOR_BGR2GRAY)\r\n",
    "    cv2.imshow('Frame', gray)\r\n",
    "    if cv2.waitKey(1) & 0xFF == ord('q'):\r\n",
    "        break\r\n",
    "cap.release()\r\n",
    "cv2.destroyAllWindows()"
   ],
   "outputs": [],
   "metadata": {}
  },
  {
   "cell_type": "markdown",
   "source": [
    "Convertinng Live Video Capture into HSV(Hue, Saturation, and Value) for simple calculation"
   ],
   "metadata": {}
  },
  {
   "cell_type": "markdown",
   "source": [
    "Sobel x"
   ],
   "metadata": {}
  },
  {
   "cell_type": "code",
   "execution_count": 4,
   "source": [
    "import numpy as np\r\n",
    "import cv2\r\n",
    "cap = cv2.VideoCapture(0)\r\n",
    "while(True):\r\n",
    "    __, frame = cap.read()\r\n",
    "    # Convert to HSV(Hue, Saturation, and Value) for simple calculation\r\n",
    "    hsv = cv2.cvtColor(frame, cv2.COLOR_BGR2HSV)\r\n",
    "    # sobeLx operator\r\n",
    "    # cv2.Sobel(original image, depth of dest image, xorder, yorder, kernel size)\r\n",
    "    sobelx = cv2.Sobel(frame, cv2.CV_64F, 1, 0, 5)\r\n",
    "    cv2.imshow('SobelX', sobelx)\r\n",
    "    if cv2.waitKey(1) & 0xFF == ord('q'):\r\n",
    "        break\r\n",
    "cap.release()\r\n",
    "cv2.destroyAllWindows()"
   ],
   "outputs": [],
   "metadata": {}
  },
  {
   "cell_type": "markdown",
   "source": [
    "Sobel Y"
   ],
   "metadata": {}
  },
  {
   "cell_type": "code",
   "execution_count": 5,
   "source": [
    "import numpy as np\r\n",
    "import cv2\r\n",
    "cap = cv2.VideoCapture(0)\r\n",
    "while(True):\r\n",
    "    __, frame = cap.read()\r\n",
    "    hsv = cv2.cvtColor(frame, cv2.COLOR_BGR2HSV)\r\n",
    "    # sobeLy operator\r\n",
    "    sobely = cv2.Sobel(frame, cv2.CV_64F, 0, 1, 5)\r\n",
    "    cv2.imshow('SobelY', sobely)\r\n",
    "    if cv2.waitKey(1) & 0xFF == ord('q'):\r\n",
    "        break\r\n",
    "cap.release()\r\n",
    "cv2.destroyAllWindows()"
   ],
   "outputs": [],
   "metadata": {}
  },
  {
   "cell_type": "markdown",
   "source": [
    "Laplacian Algorithm"
   ],
   "metadata": {}
  },
  {
   "cell_type": "code",
   "execution_count": 7,
   "source": [
    "import numpy as np\r\n",
    "import cv2\r\n",
    "cap = cv2.VideoCapture(0)\r\n",
    "while(True):\r\n",
    "    __, frame = cap.read()\r\n",
    "    hsv = cv2.cvtColor(frame, cv2.COLOR_BGR2HSV)\r\n",
    "    lap = sobelx = cv2.Laplacian(frame, cv2.CV_64F)\r\n",
    "    cv2.imshow('Laplaccian', lap)\r\n",
    "    if cv2.waitKey(1) & 0xFF == ord('q'):\r\n",
    "        break\r\n",
    "cap.release()\r\n",
    "cv2.destroyAllWindows()"
   ],
   "outputs": [],
   "metadata": {}
  },
  {
   "cell_type": "markdown",
   "source": [
    "Comparing Realtime Vidoe and the Edges of video"
   ],
   "metadata": {}
  },
  {
   "cell_type": "code",
   "execution_count": 9,
   "source": [
    "import numpy as np\r\n",
    "import cv2\r\n",
    "cap = cv2.VideoCapture(0)\r\n",
    "while(True):\r\n",
    "    __, frame = cap.read()\r\n",
    "    hsv = cv2.cvtColor(frame, cv2.COLOR_BGR2HSV)\r\n",
    "    lower_red = np.array([30, 150, 50])\r\n",
    "    upper_red = np.array([255, 255, 180])\r\n",
    "    mask = cv2.inRange(hsv, lower_red, upper_red)\r\n",
    "    res = cv2.bitwise_and(frame, frame, mask=mask)\r\n",
    "\r\n",
    "    cv2.imshow('Original Image', frame)\r\n",
    "    edge = cv2.Canny(frame, 100, 200)\r\n",
    "    cv2.imshow('Edges', edge)\r\n",
    "    if cv2.waitKey(1) & 0xFF == ord('q'):\r\n",
    "        break\r\n",
    "cap.release()\r\n",
    "cv2.destroyAllWindows()"
   ],
   "outputs": [],
   "metadata": {}
  },
  {
   "cell_type": "markdown",
   "source": [
    "Comparing Local Image and the Edges of local Image"
   ],
   "metadata": {}
  },
  {
   "cell_type": "code",
   "execution_count": 12,
   "source": [
    "import numpy as np\r\n",
    "import cv2\r\n",
    "cap = cv2.VideoCapture(0)\r\n",
    "while(True):\r\n",
    "    img = cv2.imread('bg.jpg')\r\n",
    "    hsv = cv2.cvtColor(img, cv2.COLOR_BGR2HSV)\r\n",
    "    lower_red = np.array([30, 150, 50])\r\n",
    "    upper_red = np.array([255, 255, 180])\r\n",
    "    mask = cv2.inRange(hsv, lower_red, upper_red)\r\n",
    "    res = cv2.bitwise_and(img, img, mask=mask)\r\n",
    "\r\n",
    "    cv2.imshow('Original Image', img)\r\n",
    "    edge = cv2.Canny(img, 100, 200)\r\n",
    "    cv2.imshow('Edges', edge)\r\n",
    "    if cv2.waitKey(1) & 0xFF == ord('q'):\r\n",
    "        break\r\n",
    "cap.release()\r\n",
    "cv2.destroyAllWindows()"
   ],
   "outputs": [],
   "metadata": {}
  }
 ],
 "metadata": {
  "orig_nbformat": 4,
  "language_info": {
   "name": "python",
   "version": "3.9.6",
   "mimetype": "text/x-python",
   "codemirror_mode": {
    "name": "ipython",
    "version": 3
   },
   "pygments_lexer": "ipython3",
   "nbconvert_exporter": "python",
   "file_extension": ".py"
  },
  "kernelspec": {
   "name": "python3",
   "display_name": "Python 3.9.6 64-bit"
  },
  "interpreter": {
   "hash": "10fa5b18b6821efcf1a0ca8a7bbd5168ce7aee3a71c9cf3dc990838fd8f195d9"
  }
 },
 "nbformat": 4,
 "nbformat_minor": 2
}