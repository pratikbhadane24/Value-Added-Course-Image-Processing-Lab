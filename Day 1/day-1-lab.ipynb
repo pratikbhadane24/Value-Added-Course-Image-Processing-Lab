{
 "cells": [
  {
   "cell_type": "code",
   "execution_count": null,
   "source": [
    "import cv2\r\n",
    "print(cv2.__version__)"
   ],
   "outputs": [],
   "metadata": {}
  },
  {
   "cell_type": "code",
   "execution_count": 1,
   "source": [
    "import numpy as np\r\n",
    "import cv2\r\n",
    "\r\n",
    "img = cv2.imread('bg.jpg', -1)\r\n",
    "cv2.imshow('image', img)\r\n",
    "cv2.waitKey(0)\r\n",
    "cv2.destroyAllWindows()"
   ],
   "outputs": [],
   "metadata": {}
  },
  {
   "cell_type": "code",
   "execution_count": 4,
   "source": [
    "import numpy as np\r\n",
    "import cv2\r\n",
    "\r\n",
    "img = cv2.imread('bg.jpg', 1)\r\n",
    "cv2.imshow('image', img)\r\n",
    "k = cv2.waitKey(0)\r\n",
    "if k==27:\r\n",
    "    cv2.destroyAllWindows()\r\n",
    "elif k == ord('s'):\r\n",
    "    cv2.imwrite('scenery.bmp', img)\r\n",
    "    cv2.destroyAllWindows()"
   ],
   "outputs": [],
   "metadata": {}
  },
  {
   "cell_type": "code",
   "execution_count": null,
   "source": [
    "import numpy as np\r\n",
    "import cv2\r\n",
    "from matplotlib import pyplot as plt\r\n",
    "\r\n",
    "img = cv2.imread('bg.jpg', 0)\r\n",
    "plt.imshow(img, cmap='gray', interpolation='bicubic')\r\n",
    "plt.xticks([]), plt.yticks([])\r\n",
    "plt.show()"
   ],
   "outputs": [],
   "metadata": {}
  },
  {
   "cell_type": "code",
   "execution_count": null,
   "source": [
    "import numpy as np\r\n",
    "import cv2\r\n",
    "cap = cv2.VideoCapture(0)\r\n",
    "while (True):\r\n",
    "    ret, frame=cap.read()\r\n",
    "    gray = cv2.cvtColor(frame, cv2.COLOR_BGR2GRAY)\r\n",
    "    cv2.imshow('Pratik Frame',gray)\r\n",
    "    if cv2.waitKey(1)& 0xFF==ord('q'):\r\n",
    "        break\r\n",
    "cap.release()\r\n",
    "cv2.destroyAllWindows()"
   ],
   "outputs": [],
   "metadata": {}
  }
 ],
 "metadata": {
  "orig_nbformat": 4,
  "language_info": {
   "name": "python",
   "version": "3.9.6",
   "mimetype": "text/x-python",
   "codemirror_mode": {
    "name": "ipython",
    "version": 3
   },
   "pygments_lexer": "ipython3",
   "nbconvert_exporter": "python",
   "file_extension": ".py"
  },
  "kernelspec": {
   "name": "python3",
   "display_name": "Python 3.9.6 64-bit"
  },
  "interpreter": {
   "hash": "10fa5b18b6821efcf1a0ca8a7bbd5168ce7aee3a71c9cf3dc990838fd8f195d9"
  }
 },
 "nbformat": 4,
 "nbformat_minor": 2
}